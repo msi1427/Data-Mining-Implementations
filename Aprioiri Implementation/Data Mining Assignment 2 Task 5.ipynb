{
 "cells": [
  {
   "cell_type": "markdown",
   "metadata": {},
   "source": [
    "# **Name : Mohammad Sabik Irbaz** \n",
    "#  **Student ID : 160041004**\n",
    "# CSE 4739 : Data Mining\n",
    "# Assignment - 2\n",
    "# Task - 5"
   ]
  },
  {
   "cell_type": "code",
   "execution_count": 481,
   "metadata": {},
   "outputs": [],
   "source": [
    "# IMPORTING USEFUL LIBRARIES\n",
    "# pip install numpy\n",
    "import numpy as np\n",
    "# pip install pandas\n",
    "import pandas as pd\n",
    "import math\n",
    "import io"
   ]
  },
  {
   "cell_type": "code",
   "execution_count": 482,
   "metadata": {},
   "outputs": [],
   "source": [
    "file = open(\"T10I4D100K.dat.txt\")\n",
    "# file = open(\"Custom.txt\")\n",
    "df=[]\n",
    "for line in file:\n",
    "    df.append(np.array(line.split(),dtype=int))\n",
    "trx = np.array(df)"
   ]
  },
  {
   "cell_type": "code",
   "execution_count": 483,
   "metadata": {},
   "outputs": [
    {
     "name": "stdout",
     "output_type": "stream",
     "text": [
      "500\n"
     ]
    }
   ],
   "source": [
    "trxsz = trx.shape[0]\n",
    "min_support = float(trxsz)*((.5/100.0))\n",
    "min_support = int(min_support)\n",
    "# min_support=3\n",
    "print(min_support)"
   ]
  },
  {
   "cell_type": "code",
   "execution_count": 484,
   "metadata": {},
   "outputs": [
    {
     "name": "stdout",
     "output_type": "stream",
     "text": [
      "999\n"
     ]
    }
   ],
   "source": [
    "mx = 0\n",
    "for i in range(trxsz):\n",
    "    for j in range(trx[i].shape[0]):\n",
    "        mx = max(mx,trx[i][j])\n",
    "print(mx)"
   ]
  },
  {
   "cell_type": "code",
   "execution_count": 485,
   "metadata": {},
   "outputs": [
    {
     "name": "stdout",
     "output_type": "stream",
     "text": [
      "[ 594 1535  673 ... 2713  193    0]\n"
     ]
    }
   ],
   "source": [
    "cnt=np.zeros(mx+2,dtype=int)\n",
    "for i in range(trxsz):\n",
    "    for j in range(trx[i].shape[0]):\n",
    "        cnt[trx[i][j]]=cnt[trx[i][j]]+1\n",
    "print(cnt)"
   ]
  },
  {
   "cell_type": "code",
   "execution_count": 486,
   "metadata": {},
   "outputs": [
    {
     "name": "stdout",
     "output_type": "stream",
     "text": [
      "(568,)\n"
     ]
    }
   ],
   "source": [
    "one_element = []\n",
    "for i in range(1,mx+1):\n",
    "    # OPTIMIZATION\n",
    "    if cnt[i]>=min_support :\n",
    "        one_element.append(i)\n",
    "one_element = np.array(one_element,dtype=int)\n",
    "print(one_element.shape)"
   ]
  },
  {
   "cell_type": "code",
   "execution_count": 487,
   "metadata": {},
   "outputs": [
    {
     "name": "stdout",
     "output_type": "stream",
     "text": [
      "[[  1   2]\n",
      " [  1   3]\n",
      " [  1   4]\n",
      " ...\n",
      " [992 995]\n",
      " [992 998]\n",
      " [995 998]]\n"
     ]
    }
   ],
   "source": [
    "two_element = []\n",
    "for i in range(one_element.shape[0]):\n",
    "    for j in range(i+1,one_element.shape[0]):\n",
    "        two_element.append(np.array(np.concatenate((one_element[i], one_element[j]), axis=None)))\n",
    "two_element = np.array(two_element,dtype=int)\n",
    "print(two_element)"
   ]
  },
  {
   "cell_type": "code",
   "execution_count": null,
   "metadata": {},
   "outputs": [],
   "source": [
    "cnt=np.zeros((trxsz,mx+1),dtype=int)\n",
    "for i in range(trxsz):\n",
    "    for j in range(trx[i].shape[0]):\n",
    "        cnt[i][trx[i][j]]=cnt[i][trx[i][j]]+1\n",
    "nwmp=np.zeros(two_element.shape[0],dtype=int)\n",
    "for i in range(two_element.shape[0]):\n",
    "    cc=0\n",
    "    for j in range(trxsz):\n",
    "        c2=0\n",
    "        for k in range(2):\n",
    "            if cnt[j][two_element[i][k]]>0 :\n",
    "                c2=c2+1\n",
    "            else :\n",
    "                break\n",
    "        if c2==2 :\n",
    "            cc=cc+1\n",
    "    nwmp[i]=cc\n",
    "nwmp"
   ]
  },
  {
   "cell_type": "code",
   "execution_count": null,
   "metadata": {},
   "outputs": [],
   "source": [
    "candidate_itemset = []\n",
    "frequency = []\n",
    "csz = 0\n",
    "element = []\n",
    "for i in range(two_element.shape[0]):\n",
    "    # OPTIMIZATION\n",
    "    if nwmp[i]>=min_support :\n",
    "        candidate_itemset.append(two_element[i])\n",
    "        frequency.append(nwmp[i])\n",
    "        element.append(two_element[i])\n",
    "        csz=csz+1\n",
    "element = np.array(element,dtype=int)\n",
    "element"
   ]
  },
  {
   "cell_type": "code",
   "execution_count": null,
   "metadata": {},
   "outputs": [],
   "source": [
    "while True :\n",
    "    if element.shape[0]==0 :\n",
    "        break\n",
    "    test = []\n",
    "    for i in range(element.shape[0]):\n",
    "        for j in range(i+1,element.shape[0]):\n",
    "            cc = 0\n",
    "            sz = element.shape[1]\n",
    "            for k in range(sz-1):\n",
    "                if element[i][k] == element[j][k] : \n",
    "                    cc = cc + 1\n",
    "            if cc == sz-1 :\n",
    "                if element[i][sz-1] != element[j][sz-1] :\n",
    "                    nw = []\n",
    "                    for k in range(sz):\n",
    "                        nw.append(element[i][k])\n",
    "                    nw.append(element[j][sz-1])\n",
    "                    test.append(np.array(nw))\n",
    "                    \n",
    "    test = np.array(test,dtype=int)\n",
    "    retest = []\n",
    "    \n",
    "    # OPTIMIZATION\n",
    "    for i in range(test.shape[0]):\n",
    "        c=0\n",
    "        for j in range(test.shape[1]):\n",
    "            check = []\n",
    "            for k in range(test.shape[1]):\n",
    "                if test[i][j] != test[i][k]:\n",
    "                    check.append(test[i][k])\n",
    "                \n",
    "            check = np.array(check,dtype=int)\n",
    "        \n",
    "            for k in range(element.shape[0]):\n",
    "                flag = 0\n",
    "                for m in range(element.shape[1]):\n",
    "                    if element[k][m]!=check[m]:\n",
    "                        flag = 1\n",
    "                        break\n",
    "                if flag == 0 :\n",
    "                    c=c+1\n",
    "                    break\n",
    "        if c==test.shape[1] :\n",
    "            retest.append(test[i])\n",
    "\n",
    "    retest = np.array(retest,dtype=int)        \n",
    "    nwmp=np.zeros(retest.shape[0],dtype=int)\n",
    "\n",
    "    for i in range(retest.shape[0]):\n",
    "        cc=0\n",
    "        for j in range(trxsz):\n",
    "            c2=0\n",
    "            for k in range(retest.shape[1]):\n",
    "                if cnt[j][retest[i][k]]>0 :\n",
    "                    c2=c2+1\n",
    "                else :\n",
    "                    break\n",
    "            if c2==retest.shape[1] :\n",
    "                cc=cc+1\n",
    "        nwmp[i]=cc\n",
    "\n",
    "    element = []\n",
    "    for i in range(retest.shape[0]):\n",
    "        # OPTIMIZATION\n",
    "        if nwmp[i]>=min_support :\n",
    "            candidate_itemset.append(retest[i])\n",
    "            frequency.append(nwmp[i])\n",
    "            element.append(retest[i])\n",
    "            csz=csz+1\n",
    "    element = np.array(element,dtype=int)\n",
    "\n",
    "print(candidate_itemset)\n",
    "print(frequency)"
   ]
  },
  {
   "cell_type": "code",
   "execution_count": null,
   "metadata": {},
   "outputs": [],
   "source": [
    "frequent_itemset = []\n",
    "freq = []\n",
    "fsz = 0\n",
    "for i in range(csz-1,0,-1):\n",
    "    if fsz == 0 :\n",
    "        frequent_itemset.append(candidate_itemset[i])\n",
    "        freq.append(frequency[i])\n",
    "        fsz=fsz+1\n",
    "    else :\n",
    "        st = 0\n",
    "        mx = 0\n",
    "        for j in range(fsz):\n",
    "            c = 0\n",
    "            for k in range(candidate_itemset[i].shape[0]):\n",
    "                \n",
    "                for m in range(frequent_itemset[j].shape[0]):\n",
    "                    if candidate_itemset[i][k]==frequent_itemset[j][m] :\n",
    "                        c=c+1\n",
    "                        break\n",
    "            \n",
    "            if c == candidate_itemset[i].shape[0]:\n",
    "                mx = max(mx,freq[j])\n",
    "        if mx<frequency[i] :\n",
    "            frequent_itemset.append(candidate_itemset[i])\n",
    "            freq.append(frequency[i])\n",
    "            fsz=fsz+1\n"
   ]
  },
  {
   "cell_type": "markdown",
   "metadata": {},
   "source": [
    "# Representative Frequent Itemset"
   ]
  },
  {
   "cell_type": "code",
   "execution_count": null,
   "metadata": {},
   "outputs": [],
   "source": [
    "for i in range(fsz):\n",
    "    for j in range(frequent_itemset[i].shape[0]):\n",
    "        print(frequent_itemset[i][j], end=\" \")\n",
    "    print('(',freq[i],')')"
   ]
  }
 ],
 "metadata": {
  "kernelspec": {
   "display_name": "Python 3",
   "language": "python",
   "name": "python3"
  },
  "language_info": {
   "codemirror_mode": {
    "name": "ipython",
    "version": 3
   },
   "file_extension": ".py",
   "mimetype": "text/x-python",
   "name": "python",
   "nbconvert_exporter": "python",
   "pygments_lexer": "ipython3",
   "version": "3.8.2"
  }
 },
 "nbformat": 4,
 "nbformat_minor": 4
}
